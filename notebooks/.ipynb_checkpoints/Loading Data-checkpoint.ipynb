{
 "metadata": {
  "name": "",
  "signature": "sha256:7e299d2df45c7ecb8fddd76ceeee8afa55e79f31fbe5f514c67da65db94186e1"
 },
 "nbformat": 3,
 "nbformat_minor": 0,
 "worksheets": [
  {
   "cells": [
    {
     "cell_type": "code",
     "collapsed": false,
     "input": [
      "# Install Anaconda\n",
      "# conda install seaborn --yes\n",
      "# conda install pymongo --yes\n",
      "\n",
      "# git clone git@github.com:dattalab/dattacode.git $HOME/Code/dattacode\n",
      "%pylab inline"
     ],
     "language": "python",
     "metadata": {},
     "outputs": [
      {
       "output_type": "stream",
       "stream": "stdout",
       "text": [
        "Populating the interactive namespace from numpy and matplotlib\n"
       ]
      },
      {
       "output_type": "stream",
       "stream": "stderr",
       "text": [
        "WARNING: pylab import has clobbered these variables: ['f']\n",
        "`%matplotlib` prevents importing * from pylab and numpy\n"
       ]
      }
     ],
     "prompt_number": 12
    },
    {
     "cell_type": "code",
     "collapsed": false,
     "input": [
      "import sys, os\n",
      "from glob import glob\n",
      "dattacodepath = os.path.expanduser(\"~/Documents/Research/piriform/dattacode\") # or wherever you put dattacode\n",
      "if dattacodepath not in sys.path:\n",
      "    sys.path.append(dattacodepath)\n",
      "import matplotlib\n",
      "import seaborn as sns\n",
      "import numpy as np\n",
      "\n",
      "import acq.scanimage as sa\n",
      "import traces as tm\n",
      "from acq.scanimage.ephusRoutines import parseXSG\n",
      "\n",
      "# traces is a module written by Andrew. Ardavan, let's set up a github copy to all the modules he's written. \n",
      "\n",
      "sns.set_palette(\"husl\")\n",
      "sns.set_style(\"white\")\n",
      "sns.set_context(\"poster\")\n",
      "%matplotlib inline"
     ],
     "language": "python",
     "metadata": {},
     "outputs": [],
     "prompt_number": 2
    },
    {
     "cell_type": "code",
     "collapsed": false,
     "input": [
      "basedir = \"/Users/Ardavan/Dropbox (MIT)/awakePiriform/sp110314a\""
     ],
     "language": "python",
     "metadata": {},
     "outputs": [],
     "prompt_number": 3
    },
    {
     "cell_type": "code",
     "collapsed": false,
     "input": [
      "# Load the XSG files\n",
      "# XSG files contain metadata from the instrument used to collect the EEG data\n",
      "# It contains multiple acquisition channels and information about those channels (e.g. framerate)\n",
      "# They're parsed into Python dictionaries\n",
      "files = glob(os.path.join(basedir,\"AA0001/*.xsg\"))[:5]\n",
      "xsgs = [parseXSG(f) for f in files]\n",
      "[x['epoch'] for x in xsgs]\n",
      "xsgs = [x for x in xsgs if x['epoch'] is 1]"
     ],
     "language": "python",
     "metadata": {},
     "outputs": [],
     "prompt_number": 4
    },
    {
     "cell_type": "code",
     "collapsed": false,
     "input": [
      "# Check this out\n",
      "xsgs[0].keys()"
     ],
     "language": "python",
     "metadata": {},
     "outputs": [
      {
       "metadata": {},
       "output_type": "pyout",
       "prompt_number": 5,
       "text": [
        "['stimulator',\n",
        " 'ephys',\n",
        " 'acquisitionNumber',\n",
        " 'dateString',\n",
        " 'epoch',\n",
        " 'xsgExperimentNumber',\n",
        " 'date',\n",
        " 'xsgName',\n",
        " 'sampleRate',\n",
        " 'acquirer']"
       ]
      }
     ],
     "prompt_number": 5
    },
    {
     "cell_type": "code",
     "collapsed": false,
     "input": [
      "# I want to look at a subset of the EEG data\n",
      "trials = xsgs[1:2]"
     ],
     "language": "python",
     "metadata": {},
     "outputs": [],
     "prompt_number": 6
    },
    {
     "cell_type": "code",
     "collapsed": false,
     "input": [
      "# define frequency bands that we'd like to look at (e.g., (30,50) is low gamma)\n",
      "start,stop = (30,50)"
     ],
     "language": "python",
     "metadata": {},
     "outputs": [],
     "prompt_number": 7
    },
    {
     "cell_type": "code",
     "collapsed": false,
     "input": [
      "# Downsample from xsgs[0]['sampleRate'] to xsgs[0]['sampleRate']/downsample_fact\n",
      "# That should be from 10 kHz to 1 kHz\n",
      "# Do this for EEG and heartbeat traces\n",
      "downsample_fact = 10\n",
      "num_trials = len(trials)\n",
      "points_in_trace = trials[0]['acquirer'] ['chan6'][::downsample_fact].shape[0] # chan6 is am systems amp channel 2. This is the EEG Channel\n",
      "all_eegs, all_brs = [], []\n",
      "for trial in trials:\n",
      "    \n",
      "    # Downsample\n",
      "    eeg = trial['acquirer']['chan6'][::downsample_fact]\n",
      "    br = trial['acquirer']['chan5'][::downsample_fact] #chan 5 is AM Systems amp channel 1. This is the HR channel. \n",
      "    \n",
      "    # Filter\n",
      "    filtered_eeg = tm.butter_bandpass_filter(eeg, start, stop, 1000, 2) # andrew wrapped this function in traces module\n",
      "    filtered_br = tm.butter_bandpass_filter(br, 0.1, 500, 1000, 2)    \n",
      "    \n",
      "    # Save\n",
      "    all_eegs.append(filtered_eeg)\n",
      "    all_brs.append(filtered_br)"
     ],
     "language": "python",
     "metadata": {},
     "outputs": [],
     "prompt_number": 8
    },
    {
     "cell_type": "raw",
     "metadata": {},
     "source": [
      "    #concatenate all acquisitions (in this case, the 6 10 minute long trials). This assumes that there is drift between trials. Andrew accomodates this \n",
      "    #possibility by defining the amount of drift, then subtracts \n",
      "    #it from the trace to match the end of the previous trace. Drift is obtained by averaging 10 seconds of signal at the beginning and end \n",
      "    #of each trial.\n",
      "    if itrial>0:\n",
      "        difference_with_previous_eeg = filtered_eeg[:10000].mean() - all_eegs[((itrial*points_in_trace)-10000):(itrial*points_in_trace)].mean()\n",
      "        filtered_eeg -= difference_with_previous_eeg\n",
      "        \n",
      "        difference_with_previous_br = filtered_br[:10000].mean() - all_brs[((itrial*points_in_trace)-10000):(itrial*points_in_trace)].mean()\n",
      "        filtered_br -= difference_with_previous_br"
     ]
    },
    {
     "cell_type": "code",
     "collapsed": false,
     "input": [
      "#Select portion of signal to view. \n",
      "itrial = 0\n",
      "eeg_signal = all_eegs[itrial][1:5000]\n",
      "breath_signal = all_brs[itrial][1:5000]\n",
      "\n",
      "\"\"\"\n",
      "eeg_signal = all_eegs[900000:1050000]\n",
      "breath_signal = all_brs[900000:1050000]\n",
      "\n",
      "for gamma before transition: \n",
      "add 60000 to start and 62000 to stop. this is 2 seconds\n",
      "\n",
      "for gamma after: add 100000 to start and 102000 to stop\n",
      "\n",
      "\"\"\""
     ],
     "language": "python",
     "metadata": {},
     "outputs": [
      {
       "metadata": {},
       "output_type": "pyout",
       "prompt_number": 9,
       "text": [
        "'\\neeg_signal = all_eegs[900000:1050000]\\nbreath_signal = all_brs[900000:1050000]\\n\\nfor gamma before transition: \\nadd 60000 to start and 62000 to stop. this is 2 seconds\\n\\nfor gamma after: add 100000 to start and 102000 to stop\\n\\n'"
       ]
      }
     ],
     "prompt_number": 9
    },
    {
     "cell_type": "code",
     "collapsed": false,
     "input": [
      "#Make spectrograph\n",
      "\n",
      "points, freqs, bins = tm.specgram(signal=eeg_signal, sampling_frequency=1000, \n",
      "                                  time_resolution=.02, frequency_resolution=5, \n",
      "                                  high_frequency_cutoff=500)\n",
      "extent = (bins[0], bins[-1], freqs[0], freqs[-1])"
     ],
     "language": "python",
     "metadata": {},
     "outputs": [],
     "prompt_number": 10
    },
    {
     "cell_type": "code",
     "collapsed": false,
     "input": [
      "\n",
      "figure(figsize=(20,20))\n",
      "\n",
      "\n",
      "#plot raw eeg\n",
      "\n",
      "subplot(5,1,1)\n",
      "plot(eeg_signal, linewidth=1)\n",
      "xlim(0,len(eeg_signal))\n",
      "#ylim(-1,1)\n",
      "title('Gamma Band (%d-%d hz)'%(start,stop))\n",
      "blah=gca()\n",
      "#blah.axes.get_xaxis().set_visible(False)\n",
      "ylabel('volts (dB)', fontsize=20)\n",
      "\n",
      "\n",
      "#Plot spectrograph\n",
      "subplot(5, 1, 2)\n",
      "#title('Power in Delta 0-4 \\n Theta 4-10')\n",
      "#ylim(50,70)\n",
      "#xlim(500, 600)\n",
      "ylabel('frequency', fontsize=20)\n",
      "\n",
      "\n",
      "plt.imshow(points, aspect='auto', origin='lower', extent=extent, vmin=-100, vmax=0, cmap=\"cubehelix\") # from pyplot\n",
      "blah=gca()\n",
      "#blah.axes.get_xaxis().set_visible(False)\n",
      "\n",
      "#plot heaertrate\n",
      "subplot(5,1,3)\n",
      "plot(breath_signal, linewidth=1)\n",
      "xlim(0,len(eeg_signal))\n",
      "ylim(-1,1)\n",
      "title('Heart Rate')\n",
      "blah=gca()\n",
      "#blah.axes.get_xaxis().set_visible(False)\n",
      "ylabel('volts ', fontsize=20)"
     ],
     "language": "python",
     "metadata": {},
     "outputs": [
      {
       "ename": "NameError",
       "evalue": "name 'figure' is not defined",
       "output_type": "pyerr",
       "traceback": [
        "\u001b[0;31m---------------------------------------------------------------------------\u001b[0m\n\u001b[0;31mNameError\u001b[0m                                 Traceback (most recent call last)",
        "\u001b[0;32m<ipython-input-11-30054288e56e>\u001b[0m in \u001b[0;36m<module>\u001b[0;34m()\u001b[0m\n\u001b[1;32m      1\u001b[0m \u001b[0;34m\u001b[0m\u001b[0m\n\u001b[0;32m----> 2\u001b[0;31m \u001b[0mfigure\u001b[0m\u001b[0;34m(\u001b[0m\u001b[0mfigsize\u001b[0m\u001b[0;34m=\u001b[0m\u001b[0;34m(\u001b[0m\u001b[0;36m20\u001b[0m\u001b[0;34m,\u001b[0m\u001b[0;36m20\u001b[0m\u001b[0;34m)\u001b[0m\u001b[0;34m)\u001b[0m\u001b[0;34m\u001b[0m\u001b[0m\n\u001b[0m\u001b[1;32m      3\u001b[0m \u001b[0;34m\u001b[0m\u001b[0m\n\u001b[1;32m      4\u001b[0m \u001b[0;34m\u001b[0m\u001b[0m\n\u001b[1;32m      5\u001b[0m \u001b[0;31m#plot raw eeg\u001b[0m\u001b[0;34m\u001b[0m\u001b[0;34m\u001b[0m\u001b[0m\n",
        "\u001b[0;31mNameError\u001b[0m: name 'figure' is not defined"
       ]
      }
     ],
     "prompt_number": 11
    },
    {
     "cell_type": "code",
     "collapsed": false,
     "input": [
      "#plt.plot(freqs, points.mean(axis=1))\n",
      "#xlim(0,100)\n",
      "\n",
      "\n",
      "\n",
      "plt.plot(freqs, points[:,:].mean(axis=1), 'g', label = 'before', alpha=0.5)\n",
      "#plt.plot(freqs, points[:,1000:1495].mean(axis=1), 'm', label = 'after', alpha=0.5)\n",
      "legend(loc=2, prop={'size':20})\n",
      "\n",
      "\n",
      "title('Average Delta Power (1-4 hz)', fontsize=20)\n",
      "\n",
      "ylabel('log power (decibels)', fontsize=20)\n",
      "xlabel('frequency', fontsize=20)\n",
      "#ylim(-50,-20)\n",
      "#xlim(0,10)\n"
     ],
     "language": "python",
     "metadata": {},
     "outputs": []
    },
    {
     "cell_type": "code",
     "collapsed": false,
     "input": [],
     "language": "python",
     "metadata": {},
     "outputs": []
    }
   ],
   "metadata": {}
  }
 ]
}