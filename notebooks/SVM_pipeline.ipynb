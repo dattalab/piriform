{
 "cells": [
  {
   "cell_type": "code",
   "execution_count": 4,
   "metadata": {
    "collapsed": false,
    "scrolled": true
   },
   "outputs": [
    {
     "name": "stdout",
     "output_type": "stream",
     "text": [
      "Populating the interactive namespace from numpy and matplotlib\n"
     ]
    },
    {
     "name": "stderr",
     "output_type": "stream",
     "text": [
      "WARNING: pylab import has clobbered these variables: ['plt']\n",
      "`%matplotlib` prevents importing * from pylab and numpy\n"
     ]
    }
   ],
   "source": [
    "%pylab inline\n",
    "from sklearn import svm\n",
    "import numpy as np\n",
    "import pickle as pk\n",
    "import matplotlib.pylab as plt\n",
    "\n",
    "\n",
    "data_path = '/Users/ardavan/Documents/Research/piriform/data/sp042915a_for_SVM.dat'\n",
    "mydict = pk.load(open(data_path, 'rb'))"
   ]
  },
  {
   "cell_type": "code",
   "execution_count": 69,
   "metadata": {
    "collapsed": true
   },
   "outputs": [],
   "source": [
    "#Parametrs of the pipeline\n",
    "shuffling_seed = 2 #seed of the random shuffling\n",
    "scale = True  #whether we want to scale the dataset\n",
    "train_ratio = 0.7 # ratio of the training samples\n",
    "validation_ratio = 0.15 #ratio of the validation examples\n",
    "C_list = [0.0001, 0.001, 0.01, 0.1, 1, 2, 5, 10] #List of regularization parameters for SVM\n",
    "gamma_list = [0, 1/500., 1/50., 1/5., 1] #List of gamma parameters for the RBF kernel in SVM"
   ]
  },
  {
   "cell_type": "code",
   "execution_count": 70,
   "metadata": {
    "collapsed": false
   },
   "outputs": [],
   "source": [
    "# Shuffle the rows of the data matrix (and also the target)\n",
    "np.random.seed(shuffling_seed)\n",
    "shuffled_indices = range(mydict['data'].shape[0])\n",
    "np.random.shuffle(shuffled_indices)\n",
    "\n",
    "#Shuffle the rows of the data matrix:\n",
    "old_data = mydict['data']\n",
    "new_data = old_data[np.array(shuffled_indices),:]\n",
    "\n",
    "if scale == True:\n",
    "#normalize the data\n",
    "    new_data -= np.mean(new_data)\n",
    "    new_data /= np.std(new_data)\n",
    "\n",
    "#Shuffle the rows of the target values\n",
    "old_target = mydict['target']\n",
    "new_target = old_target[np.array(shuffled_indices)]\n"
   ]
  },
  {
   "cell_type": "code",
   "execution_count": 71,
   "metadata": {
    "collapsed": false
   },
   "outputs": [
    {
     "name": "stdout",
     "output_type": "stream",
     "text": [
      "total_num: 115   num_train: 80    num_test: 18    num_validation: 17\n"
     ]
    }
   ],
   "source": [
    "# Make train, validation and test datasets\n",
    "\n",
    "#First find the rows\n",
    "test_ratio = 1- train_ratio - validation_ratio\n",
    "num_train_rows = int(train_ratio * new_data.shape[0])\n",
    "num_validation_rows = int(validation_ratio * new_data.shape[0])\n",
    "num_test_rows = new_data.shape[0] - num_train_rows - num_validation_rows\n",
    "print 'total_num: '+ str(new_data.shape[0]) + '   num_train: '+ str(num_train_rows) +'    num_test: ' + str(num_test_rows) + '    num_validation: ' + str(num_validation_rows)\n",
    "\n",
    "#Now make the three datasets\n",
    "train_data_features = new_data[:num_train_rows, :]\n",
    "train_data_labels = new_target[:num_train_rows]\n",
    "validation_data_features = new_data[num_train_rows:num_train_rows+num_validation_rows+1, :]\n",
    "validation_data_labels = new_target[num_train_rows:num_train_rows+num_validation_rows+1]\n",
    "test_data_features = new_data[-num_test_rows+1:, :]\n",
    "test_data_labels = new_target[-num_test_rows+1:]\n"
   ]
  },
  {
   "cell_type": "code",
   "execution_count": 72,
   "metadata": {
    "collapsed": false
   },
   "outputs": [
    {
     "name": "stdout",
     "output_type": "stream",
     "text": [
      "All good settings (C, gamma) :  [(10, 0.002)]\n",
      "\n",
      "Accuracy after choosing the first setting: \n",
      "train_accuracy: 0.625\n",
      "test_accuracy: 0.0\n"
     ]
    }
   ],
   "source": [
    "#Train the SVM and find the best setting over the validation set:\n",
    "\n",
    "accuracy_dict = {}\n",
    "for C in C_list:\n",
    "    for gamma in gamma_list:\n",
    "        clf = svm.SVC(C = C, gamma = gamma)\n",
    "        clf.fit(train_data_features, train_data_labels)\n",
    "        accuracy_dict[(C, gamma)] = clf.score(validation_data_features, validation_data_labels)\n",
    "\n",
    "#return the best settin of the hyperparameters\n",
    "all_good_settings = []\n",
    "all_accuracy_vals = accuracy_dict.values()\n",
    "max_accuracy = max(all_accuracy_vals)\n",
    "for key, value in accuracy_dict.iteritems():\n",
    "    if value == max_accuracy:\n",
    "        all_good_settings.append(key)\n",
    "\n",
    "#print the test accuracy for the best setting:\n",
    "print 'All good settings (C, gamma) :  ' + str(all_good_settings)\n",
    "clf = svm.SVC(C = all_good_settings[0][0], gamma = all_good_settings[0][1])\n",
    "clf.fit(train_data_features, train_data_labels)\n",
    "train_accuracy = clf.score(train_data_features, train_data_labels)\n",
    "test_accuracy = clf.score(test_data_features, test_data_labels)\n",
    "print ''\n",
    "print 'Accuracy after choosing the first setting: '\n",
    "print 'train_accuracy: ' + str(train_accuracy)\n",
    "print 'test_accuracy: ' + str(test_accuracy)"
   ]
  },
  {
   "cell_type": "code",
   "execution_count": null,
   "metadata": {
    "collapsed": true
   },
   "outputs": [],
   "source": [
    "# Cross validation (built-in)\n"
   ]
  },
  {
   "cell_type": "code",
   "execution_count": null,
   "metadata": {
    "collapsed": true
   },
   "outputs": [],
   "source": [
    "# Give the cell numbers to remove and do the same analysis\n",
    "#try cross validation"
   ]
  }
 ],
 "metadata": {
  "kernelspec": {
   "display_name": "Python 2",
   "language": "python",
   "name": "python2"
  },
  "language_info": {
   "codemirror_mode": {
    "name": "ipython",
    "version": 2
   },
   "file_extension": ".py",
   "mimetype": "text/x-python",
   "name": "python",
   "nbconvert_exporter": "python",
   "pygments_lexer": "ipython2",
   "version": "2.7.10"
  }
 },
 "nbformat": 4,
 "nbformat_minor": 0
}
